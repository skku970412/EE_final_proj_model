{
 "cells": [
  {
   "cell_type": "markdown",
   "metadata": {},
   "source": [
    "# YOLOv8 차량 번호판 학습 노트북\n\n",
    "이 노트북은 `train_license_plate.py`와 동일한 설정으로 Ultralytics YOLOv8 모델을 학습하도록 구성되어 있습니다.\n",
    "필요에 따라 학습 파라미터를 조정한 뒤 셀을 실행하세요."
   ]
  },
  {
   "cell_type": "code",
   "execution_count": null,
   "metadata": {},
   "outputs": [],
   "source": [
    "from pathlib import Path\n",
    "import os\n",
    "import sys\n",
    "\n",
    "# 노트북에서 가상환경 패키지를 사용하도록 경로를 등록합니다.\n",
    "VENV_DIR = Path('venv')\n",
    "if not VENV_DIR.exists():\n",
    "    raise FileNotFoundError(f'가상환경을 찾을 수 없습니다: {VENV_DIR}')\n",
    "\n",
    "site_packages = sorted((VENV_DIR / 'lib').glob('python*/site-packages'))\n",
    "if not site_packages:\n",
    "    raise FileNotFoundError('site-packages 디렉터리를 찾을 수 없습니다. 가상환경 구성을 확인하세요.')\n",
    "site_packages_path = site_packages[0].resolve()\n",
    "if str(site_packages_path) not in sys.path:\n",
    "    sys.path.insert(0, str(site_packages_path))\n",
    "\n",
    "os.environ['VIRTUAL_ENV'] = str(VENV_DIR.resolve())\n",
    "bin_path = (VENV_DIR / 'bin').resolve()\n",
    "current_path = os.environ.get('PATH', '')\n",
    "if current_path:\n",
    "    paths = current_path.split(':')\n",
    "    if str(bin_path) not in paths:\n",
    "        os.environ['PATH'] = str(bin_path) + ':' + current_path\n",
    "else:\n",
    "    os.environ['PATH'] = str(bin_path)\n",
    "\n",
    "print('가상환경 경로 설정 완료:', VENV_DIR)\n",
    "print('현재 커널 파이썬:', sys.executable)\n",
    "venv_python = bin_path / 'python'\n",
    "if venv_python.exists() and sys.executable != str(venv_python):\n",
    "    print('⚠️ 현재 커널이 가상환경 파이썬이 아닙니다. 필요한 경우 Jupyter 커널을 전환하세요.')\n"
   ]
  },
  {
   "cell_type": "code",
   "execution_count": null,
   "metadata": {},
   "outputs": [],
   "source": [
    "from ultralytics import YOLO\n",
    "from pathlib import Path\n",
    "\n",
    "MODEL_PATH = Path('yolov8n.pt')\n",
    "DATA_PATH = Path('../Korea Car License Plate/data.yaml')\n",
    "PROJECT_DIR = Path('runs')\n",
    "RUN_NAME = 'license_plate_yolov8n'\n",
    "\n",
    "if not MODEL_PATH.exists():\n",
    "    raise FileNotFoundError(f'모델 가중치를 찾을 수 없습니다: {MODEL_PATH}')\n",
    "if not DATA_PATH.exists():\n",
    "    raise FileNotFoundError(f'데이터 설정 파일을 찾을 수 없습니다: {DATA_PATH}')\n",
    "\n",
    "print('모델 로드 중…', MODEL_PATH)\n",
    "model = YOLO(str(MODEL_PATH))\n",
    "print('모델 로드 완료')\n",
    "\n",
    "train_args = dict(\n",
    "    data=str(DATA_PATH),\n",
    "    epochs=100,\n",
    "    batch=16,\n",
    "    imgsz=640,\n",
    "    project=str(PROJECT_DIR),\n",
    "    name=RUN_NAME,\n",
    "    workers=8,\n",
    "    seed=0,\n",
    "    deterministic=True,\n",
    "    patience=100,\n",
    "    pretrained=True,\n",
    "    val=True,\n",
    "    save=True,\n",
    "    close_mosaic=10,\n",
    "    amp=True,\n",
    ")\n",
    "\n",
    "print('학습 시작')\n",
    "results = model.train(**train_args)\n",
    "print('학습 완료')\n",
    "results\n"
   ]
  },
  {
   "cell_type": "code",
   "execution_count": null,
   "metadata": {},
   "outputs": [],
   "source": [
    "from pathlib import Path\n",
    "import itertools\n",
    "import csv\n",
    "\n",
    "run_dir = Path('runs') / 'license_plate_yolov8n'\n",
    "results_csv = run_dir / 'results.csv'\n",
    "if results_csv.exists():\n",
    "    with results_csv.open('r', encoding='utf-8') as f:\n",
    "        rows = list(csv.reader(f))\n",
    "    header, *data = rows\n",
    "    tail = list(itertools.islice(data, max(len(data) - 5, 0), None))\n",
    "    print('결과 요약 (마지막 5 에폭):')\n",
    "    print(', '.join(header))\n",
    "    for row in tail:\n",
    "        print(', '.join(row))\n",
    "else:\n",
    "    print('results.csv 파일을 찾을 수 없습니다. 학습이 정상적으로 저장되었는지 확인하세요.')\n"
   ]
  }
 ],
 "metadata": {
  "kernelspec": {
   "display_name": "Python 3",
   "language": "python",
   "name": "python3"
  },
  "language_info": {
   "name": "python",
   "version": "3.10"
  }
 },
 "nbformat": 4,
 "nbformat_minor": 5
}